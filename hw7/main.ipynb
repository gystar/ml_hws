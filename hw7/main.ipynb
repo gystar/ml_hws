{
 "metadata": {
  "language_info": {
   "codemirror_mode": {
    "name": "ipython",
    "version": 3
   },
   "file_extension": ".py",
   "mimetype": "text/x-python",
   "name": "python",
   "nbconvert_exporter": "python",
   "pygments_lexer": "ipython3",
   "version": "3.6.8-final"
  },
  "orig_nbformat": 2,
  "kernelspec": {
   "name": "python3",
   "display_name": "Python 3",
   "language": "python"
  }
 },
 "nbformat": 4,
 "nbformat_minor": 2,
 "cells": [
  {
   "cell_type": "code",
   "execution_count": null,
   "metadata": {
    "tags": []
   },
   "outputs": [],
   "source": [
    "import torch\n",
    "import importlib\n",
    "use_cuda = True & torch.cuda.is_available()\n",
    "device = torch.device(\"cuda\") if use_cuda else torch.device(\"cpu\")\n",
    "print(\"Use cuda.\" if use_cuda else \"Use cpu.\")\n",
    "TARGET_MODEL_DICT_PATH = \"./data/teacher_resnet18_from_scratch.bin\" #预先训练好的目标模型的参数，torchvision官网的resnet18，11类\n",
    "STUDENT_MODEL_DICT_SAVED_PATH = \"./data/student_net.bin\"\n",
    "TRAIN_DIR = \"../hw3/data/training\"\n",
    "VALIDATION_DIR = \"../hw3/data/validation\"\n",
    "TARGET_MODEL_SAVE_PATH = \"./data/target_model.bin\""
   ]
  },
  {
   "cell_type": "code",
   "execution_count": null,
   "metadata": {},
   "outputs": [],
   "source": [
    "#由于数据集和hw3相同，因此直接使用hw3中的model中的一些定义，比如image_set，model_manager\n",
    "sys.path.append('../hw3') \n",
    "import model_manager\n",
    "import image_set\n",
    "importlib.reload(image_set)\n",
    "importlib.reload(model_manager)\n",
    "\n",
    "def calc_right_percent(model, dir):    \n",
    "    #构造一个train的dataset来获取标签\n",
    "    data_train = image_set.LearningSet(dir, (224,224))\n",
    "    labels = data_train.GetLabels()\n",
    "    num = len(labels)\n",
    "\n",
    "    #对目录中的所有图片进行预测\n",
    "    y_pred = model_manager.predict(model,device, dir, (224,224))\n",
    "    \n",
    "    #计算预测正确的数量\n",
    "    right_count = 0\n",
    "    for i in range(num):\n",
    "        if y_pred[i] == labels[i]:\n",
    "            right_count += 1\n",
    "    return right_count/num\n",
    "def print_accuracy(model):   \n",
    "    # 用验证集和训练集验证:\n",
    "    print(\"waiting for validation...\")\n",
    "    print(\"train accuracy: %f%%\" % (100 * calc_right_percent(model,TRAIN_DIR))) \n",
    "    print(\"validation accuracy: %f%%\" % (100 * calc_right_percent(model,VALIDATION_DIR)))\n"
   ]
  },
  {
   "cell_type": "code",
   "execution_count": null,
   "metadata": {},
   "outputs": [],
   "source": [
    "#加载torchvision中定义好的resnet18模型（11类）\n",
    "import torchvision.models as models\n",
    "target_model = models.resnet18(pretrained=False, num_classes = 11)\n",
    "# 模型实例化\n",
    "if os.path.exists(TARGET_MODEL_SAVE_PATH):       \n",
    "    target_model.load_state_dict(torch.load(TARGET_MODEL_SAVE_PATH))\n",
    "    print(\"target_model has been loaded from file.\")\n",
    "\n",
    "data_train = image_set.LearningSet(TRAIN_DIR, (224,224))\n"
   ]
  },
  {
   "cell_type": "code",
   "execution_count": null,
   "metadata": {},
   "outputs": [],
   "source": [
    "print_accuracy(target_model)"
   ]
  },
  {
   "cell_type": "code",
   "execution_count": null,
   "metadata": {},
   "outputs": [],
   "source": [
    "# 训练target模型\n",
    "# 提供预训练的model有问题，此处重新训练一个出来\n",
    "if False:#如果已经训练好了，关闭此处开关\n",
    "    print(\"waiting for training...\")\n",
    "    iters = 5\n",
    "    for i in range(iters):\n",
    "        print(\"[iters %d/%d]:\" %(i, iters))\n",
    "        target_model = model_manager.train_model(\n",
    "            target_model,\n",
    "            data_train,\n",
    "            device=device,\n",
    "            lr=0.001,\n",
    "            epochs=5,\n",
    "            nbatch=128,  # 可根据显存和模型大小来调整batchsize的大小\n",
    "        )\n",
    "        # 每5轮保存一次模型，同时验证一下正确率\n",
    "        # 模型保存\n",
    "        torch.save(target_model.state_dict(),TARGET_MODEL_SAVE_PATH)\n",
    "        print_accuracy(target_model)"
   ]
  }
 ]
}