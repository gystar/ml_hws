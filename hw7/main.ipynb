{
 "metadata": {
  "language_info": {
   "codemirror_mode": {
    "name": "ipython",
    "version": 3
   },
   "file_extension": ".py",
   "mimetype": "text/x-python",
   "name": "python",
   "nbconvert_exporter": "python",
   "pygments_lexer": "ipython3",
   "version": "3.6.8-final"
  },
  "orig_nbformat": 2,
  "kernelspec": {
   "name": "python3",
   "display_name": "Python 3",
   "language": "python"
  }
 },
 "nbformat": 4,
 "nbformat_minor": 2,
 "cells": [
  {
   "cell_type": "code",
   "execution_count": null,
   "metadata": {
    "tags": []
   },
   "outputs": [],
   "source": [
    "import torch\n",
    "import importlib\n",
    "use_cuda = True & torch.cuda.is_available()\n",
    "device = torch.device(\"cuda\") if use_cuda else torch.device(\"cpu\")\n",
    "print(\"Use cuda.\" if use_cuda else \"Use cpu.\")\n",
    "TARGET_MODEL_DICT_PATH = \"./data/teacher_resnet18_from_scratch.bin\" #预先训练好的目标模型的参数，torchvision官网的resnet18，11类\n",
    "STUDENT_MODEL_DICT_SAVED_PATH = \"./data/student_net.bin\"\n",
    "TRAIN_DIR = \"../hw3/data/training\"\n",
    "VALIDATION_DIR = \"../hw3/data/validation\"\n",
    "TARGET_MODEL_SAVE_PATH = \"./data/target_model.bin\"\n",
    "#使用distillation训练得到的模型存储路径\n",
    "SMART_MODEL_DISTILLATION_SAVE_PATH = \"./data/model_distillation.bin\"\n",
    "#使用quantiztion压缩存储得到的模型数据存储路径\n",
    "SMART_MODEL_QUANTIZATION_SAVE_PATH = \"./data/model_quantization.bin\""
   ]
  },
  {
   "cell_type": "code",
   "execution_count": null,
   "metadata": {},
   "outputs": [],
   "source": [
    "#由于数据集和hw3相同，因此直接使用hw3中的model中的一些定义，比如image_set，model_manager\n",
    "sys.path.append('../hw3') \n",
    "import model_manager\n",
    "import image_set\n",
    "import model_distillation\n",
    "importlib.reload(model_distillation)\n",
    "importlib.reload(image_set)\n",
    "importlib.reload(model_manager)\n",
    "\n",
    "def calc_right_percent(model, dir):    \n",
    "    #构造一个train的dataset来获取标签\n",
    "    data_train = image_set.LearningSet(dir, (224,224))\n",
    "    labels = data_train.GetLabels()\n",
    "    num = len(labels)\n",
    "\n",
    "    #对目录中的所有图片进行预测\n",
    "    y_pred = model_manager.predict(model,device, dir, (224,224))\n",
    "    \n",
    "    #计算预测正确的数量\n",
    "    right_count = 0\n",
    "    for i in range(num):\n",
    "        if y_pred[i] == labels[i]:\n",
    "            right_count += 1\n",
    "    return right_count/num\n",
    "\n",
    "\n",
    "def train_target_model(model,iters, savepath, opt = 0):\n",
    "    #会自动保存表现最好的model\n",
    "    data_train = image_set.LearningSet(TRAIN_DIR, (224,224)) \n",
    "    accuracy_pre = calc_right_percent(model,VALIDATION_DIR)   \n",
    "    for i in range(iters):\n",
    "        print(\"[iters %d/%d]:\" %(i, iters))\n",
    "        model = model_manager.train_model(\n",
    "            model,\n",
    "            data_train,\n",
    "            device=device,\n",
    "            lr=0.001,\n",
    "            epochs=5,\n",
    "            nbatch=128,  # 可根据显存和模型大小来调整batchsize的大小\n",
    "            weight_decay= 0.001,\n",
    "            opt = 0,\n",
    "        )\n",
    "        # 每5轮保存一次模型，同时验证一下正确率\n",
    "        print(\"waiting for validation...\")\n",
    "        accuracy = calc_right_percent(model,VALIDATION_DIR)\n",
    "        print(\"train accuracy: %f%%\" % (100 * calc_right_percent(model,TRAIN_DIR))) \n",
    "        print(\"validation accuracy: %f%%\" % (100 * accuracy))\n",
    "        # 如果验证集的准确率超过之前的，则进行模型保存\n",
    "        print(\"accuracy_pre:%f, accuracy:%f\" %(accuracy_pre, accuracy))\n",
    "        if accuracy > accuracy_pre:            \n",
    "            torch.save(model.state_dict(),savepath)  \n",
    "            accuracy_pre = accuracy\n",
    "            print(\"Got a better model and saved it.\")\n",
    "    return model\n",
    "\n",
    "def train_smart_model(teacher,student,iters, savepath, opt = 0):\n",
    "    #会自动保存表现最好的model\n",
    "    data_train = image_set.LearningSet(TRAIN_DIR, (224,224)) \n",
    "    accuracy_pre = calc_right_percent(student,VALIDATION_DIR)   \n",
    "    for i in range(iters):\n",
    "        print(\"[iters %d/%d]:\" %(i, iters))\n",
    "        model_distillation.train_student(teacher, student, data_train, device, epochs=5, opt = opt)   \n",
    "        # 每5轮保存一次模型，同时验证一下正确率\n",
    "        print(\"waiting for validation...\")        \n",
    "        print(\"train accuracy: %f%%\" % (100 * calc_right_percent(student,TRAIN_DIR))) \n",
    "        accuracy = calc_right_percent(student,VALIDATION_DIR)\n",
    "        print(\"validation accuracy: %f%%\" % (100 * accuracy))\n",
    "        # 如果验证集的准确率超过之前的，则进行模型保存\n",
    "        print(\"accuracy_pre:%f, accuracy:%f\" %(accuracy_pre, accuracy))\n",
    "        if accuracy > accuracy_pre:            \n",
    "            torch.save(student.state_dict(),savepath)  \n",
    "            accuracy_pre = accuracy\n",
    "            print(\"Got a better model and saved it.\")\n",
    "    return student"
   ]
  },
  {
   "cell_type": "code",
   "execution_count": null,
   "metadata": {},
   "outputs": [],
   "source": [
    "#加载torchvision中定义好的resnet18模型（11类）\n",
    "import torchvision.models as models\n",
    "target_model = models.resnet18(pretrained=False, num_classes = 11)\n",
    "# 模型实例化\n",
    "if os.path.exists(TARGET_MODEL_SAVE_PATH):       \n",
    "    target_model.load_state_dict(torch.load(TARGET_MODEL_SAVE_PATH))\n",
    "    print(\"target_model has been loaded from file.\")\n"
   ]
  },
  {
   "cell_type": "code",
   "execution_count": null,
   "metadata": {},
   "outputs": [],
   "source": [
    "# 训练target模型\n",
    "# 提供预训练的model有问题，此处重新训练一个出来\n",
    "if False:#如果已经训练好了，关闭此处开关\n",
    "      print(\"waiting for training target model...\")\n",
    "      target_model = train_target_model(target_model, 20, TARGET_MODEL_SAVE_PATH)"
   ]
  },
  {
   "cell_type": "code",
   "execution_count": null,
   "metadata": {},
   "outputs": [],
   "source": [
    "target_model.load_state_dict(torch.load(TARGET_MODEL_SAVE_PATH))#加载保存的表现最好的model\n",
    "print(\"waiting for validation of target model...\")\n",
    "print(\"train accuracy: %f%%\" % (100 * calc_right_percent(target_model,TRAIN_DIR))) \n",
    "print(\"validation accuracy: %f%%\" % (100 * calc_right_percent(target_model,VALIDATION_DIR)))"
   ]
  },
  {
   "cell_type": "code",
   "execution_count": null,
   "metadata": {
    "tags": [
     "outputPrepend"
    ]
   },
   "outputs": [],
   "source": [
    "# 用distillation的方式来训练压缩后的模型\n",
    "# 尝试过直接用训练数据来进行训练，得到的准确率只有70%左右，相差较大\n",
    "import model_architecture\n",
    "importlib.reload(model_architecture)\n",
    "\n",
    "smart_model = model_architecture.SmartResnet18()\n",
    "if os.path.exists(SMART_MODEL_DISTILLATION_SAVE_PATH):       \n",
    "    smart_model.load_state_dict(torch.load(SMART_MODEL_DISTILLATION_SAVE_PATH))\n",
    "    print(\"smart_model has been loaded from file.\")\n",
    "if False:#如果已经训练好了，关闭此处开关\n",
    "      print(\"waiting for training smart model...\")\n",
    "      smart_model = train_smart_model(target_model, smart_model, 20, SMART_MODEL_DISTILLATION_SAVE_PATH,1)"
   ]
  },
  {
   "cell_type": "code",
   "execution_count": 10,
   "metadata": {},
   "outputs": [
    {
     "output_type": "stream",
     "name": "stdout",
     "text": [
      "waiting for validation of smart model...\n",
      "train accuracy: 96.493006%\n",
      "validation accuracy: 81.720117%\n"
     ]
    }
   ],
   "source": [
    "smart_model.load_state_dict(torch.load(SMART_MODEL_DISTILLATION_SAVE_PATH))#加载保存的表现最好的model\n",
    "print(\"waiting for validation of smart model...\")\n",
    "print(\"train accuracy: %f%%\" % (100 * calc_right_percent(smart_model,TRAIN_DIR))) \n",
    "print(\"validation accuracy: %f%%\" % (100 * calc_right_percent(smart_model,VALIDATION_DIR)))"
   ]
  },
  {
   "cell_type": "code",
   "execution_count": 13,
   "metadata": {},
   "outputs": [
    {
     "output_type": "stream",
     "name": "stdout",
     "text": [
      "waiting for validation of smart model...\n",
      "train accuracy: 96.493006%\n",
      "validation accuracy: 81.690962%\n"
     ]
    }
   ],
   "source": [
    "#使用quantiztion的方法对模型数据压缩后存储，再加载检查一下准确率\n",
    "import model_quantization\n",
    "model_quantization.save_model_f16(smart_model, SMART_MODEL_QUANTIZATION_SAVE_PATH)\n",
    "model_quantization.load_model_f16(smart_model, SMART_MODEL_QUANTIZATION_SAVE_PATH)\n",
    "print(\"waiting for validation of smart model...\")\n",
    "print(\"train accuracy: %f%%\" % (100 * calc_right_percent(smart_model,TRAIN_DIR))) \n",
    "print(\"validation accuracy: %f%%\" % (100 * calc_right_percent(smart_model,VALIDATION_DIR)))"
   ]
  },
  {
   "cell_type": "code",
   "execution_count": 14,
   "metadata": {},
   "outputs": [
    {
     "output_type": "stream",
     "name": "stdout",
     "text": [
      "origin model: 42.73 M\nsmart model: 5.57 M\nquantization model: 2.77 M\n"
     ]
    }
   ],
   "source": [
    "#打印一下各个model的大小\n",
    "sizes = [os.stat(path).st_size/(1024*1024) for path in [TARGET_MODEL_SAVE_PATH, SMART_MODEL_DISTILLATION_SAVE_PATH, SMART_MODEL_QUANTIZATION_SAVE_PATH]]\n",
    "\n",
    "print(\"origin model: %.02f M\" % sizes[0])\n",
    "print(\"smart model: %.02f M\" % sizes[1])\n",
    "print(\"quantization model: %.02f M\" % sizes[2])"
   ]
  },
  {
   "cell_type": "code",
   "execution_count": null,
   "metadata": {},
   "outputs": [],
   "source": []
  }
 ]
}