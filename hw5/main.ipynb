{
 "metadata": {
  "language_info": {
   "codemirror_mode": {
    "name": "ipython",
    "version": 3
   },
   "file_extension": ".py",
   "mimetype": "text/x-python",
   "name": "python",
   "nbconvert_exporter": "python",
   "pygments_lexer": "ipython3",
   "version": "3.6.8-final"
  },
  "orig_nbformat": 2,
  "kernelspec": {
   "name": "python3",
   "display_name": "Python 3"
  }
 },
 "nbformat": 4,
 "nbformat_minor": 2,
 "cells": [
  {
   "source": [
    "import os,sys,math\n",
    "import torch\n",
    "import numpy as np\n",
    "from PIL import Image\n",
    "from torchvision import transforms\n",
    "import importlib\n",
    "import matplotlib.pyplot as plt\n",
    "import random\n",
    "sys.path.append('../hw3') ##直接使用hw3中的model\n",
    "import image_classification\n",
    "import image_set\n",
    "importlib.reload(image_set)\n",
    "importlib.reload(image_classification)\n",
    "random.seed(10)\n",
    "\n",
    "\n",
    "current_dir = os.path.abspath('.')\n",
    "MODEL_PATH =  os.path.join(current_dir, \"../hw3/<class 'image_classification.GYHF_LetNet5'>.pkl\")\n",
    "TRAIN_DIR = os.path.join(current_dir, \"../hw3/data/training\")\n",
    "OUTPUT_DIR = os.path.join(current_dir, \"output\")\n",
    "if not os.path.exists(OUTPUT_DIR):\n",
    "    os.mkdir(OUTPUT_DIR)\n"
   ],
   "cell_type": "code",
   "metadata": {},
   "execution_count": null,
   "outputs": []
  },
  {
   "cell_type": "code",
   "execution_count": null,
   "metadata": {},
   "outputs": [],
   "source": [
    "#指定模型类别\n",
    "model_class = image_classification.GYHF_LetNet5\n",
    "data = image_set.LearningSet( TRAIN_DIR, model_class.input_size, False)\n",
    "#使用已经训练好的hw3中的model\n",
    "model = torch.load(MODEL_PATH)\n",
    "class_num = data.GetClassNum()"
   ]
  },
  {
   "cell_type": "code",
   "execution_count": null,
   "metadata": {},
   "outputs": [],
   "source": [
    "#选出每个类别概率最高的图片\n",
    "import saliency_map\n",
    "\n",
    "##先选出概率最高的图片的索引数字\n",
    "data_loader = torch.utils.data.DataLoader(\n",
    "    data, 1024, shuffle=False,\n",
    "    num_workers=2)\n",
    "\n",
    "#先计算出所有图片的输出\n",
    "output = np.zeros((1, class_num)) #空矩阵，便于使用concatenate\n",
    "model.eval()  # 会关闭dropout、batchnorm等\n",
    "with torch.no_grad():  # 不构建计算图\n",
    "    for _, info in enumerate(data_loader):\n",
    "        images, labels = info             \n",
    "        y_pred = model(images).numpy()                \n",
    "        output = np.concatenate((output, y_pred), axis=0)            \n",
    "output = torch.tensor(output[1:]).float() #去掉第一行的空行\n",
    "idx = []\n",
    "for i in range(class_num):\n",
    "    idx.append(output[:,i].topk(1)[1].item()) #得到所需图片的索引，即为每一类别中概率最大的图片索引号\n",
    "images,labels = data.GetBatch(idx) #取出这些图片\n"
   ]
  },
  {
   "cell_type": "code",
   "execution_count": null,
   "metadata": {},
   "outputs": [],
   "source": [
    "##画出每个类别概率最高的图片的salient map\n",
    "saliency_map.draw(model, images, labels, 8)"
   ]
  },
  {
   "cell_type": "code",
   "execution_count": null,
   "metadata": {},
   "outputs": [],
   "source": [
    "import filter_visualization\n",
    "import importlib\n",
    "importlib.reload(filter_visualization)\n",
    "\n",
    "images,_ = data.GetBatch([1,3,5])\n",
    "g_output = None #使用filter_visualization.generate_image前必须声明这个固定名称的全局变量\n",
    "image,activations  = filter_visualization.generate_image(images,model, model.features[0], 0, (3,model.input_size[0], model.input_size[1]), iters=1000, lr=0.01)\n",
    "\n",
    "#画出能得到最大激活的图片\n",
    "plt.figure()\n",
    "plt.imshow(image)\n",
    "#画出所有的原图和激活图\n",
    "fig, axs = plt.subplots(2, len(images), figsize=(10, 10))\n",
    "for i, img in enumerate(images):\n",
    "  axs[0][i].imshow(img.permute(1, 2, 0))\n",
    "for i, img in enumerate(activations):\n",
    "  axs[1][i].imshow(img)\n",
    "plt.show()"
   ]
  },
  {
   "cell_type": "code",
   "execution_count": null,
   "metadata": {},
   "outputs": [],
   "source": [
    "#使用lime来分析model\n",
    "import lime\n",
    "import skimage\n",
    "from lime import lime_image\n",
    "\n",
    "idx = [1,3,5]\n",
    "images,labels = data.GetBatch(idx)\n",
    "#定义lime需要实现的两个函数predict和segmentation\n",
    "def predict(input):#输入图片，得到预测的类别结果\n",
    "    #输入的图片格式为numpy,且维度为[batch,w,h,c]\n",
    "    model.eval()\n",
    "    #将input转换为pytorch的常用格式[batch,c,w,h]\n",
    "    input_tensor =torch.FloatTensor(input).permute(0,3,1,2)\n",
    "    output = model(input_tensor)\n",
    "    return output.detach().cpu().numpy()\n",
    "def segmentation(input):#对输入的图片进行分割100块\n",
    "    return skimage.segmentation.slic(input, n_segments=100, compactness=1, sigma=1)\n",
    "\n",
    "fig,axs = plt.subplots(1, len(images))\n",
    "for i,(image,label) in enumerate(zip(images, labels)):\n",
    "    x = image.numpy().astype(np.double).transpose(1,2,0) #lime需要输入numpy矩阵\n",
    "    print(x.shape)\n",
    "    explainer = lime_image.LimeImageExplainer()\n",
    "    explaination = explainer.explain_instance(image=x, classifier_fn=predict, segmentation_fn=segmentation) \n",
    "    lime_img, mask = explaination.get_image_and_mask(                                                                  label=label.item(), \n",
    "        positive_only=False,\n",
    "        hide_rest=False,\n",
    "        num_features=class_num,\n",
    "        min_weight=0.05\n",
    "    )\n",
    "    axs[i].imshow(lime_img)\n",
    "plt.show()                                                                                                    "
   ]
  },
  {
   "cell_type": "code",
   "execution_count": null,
   "metadata": {},
   "outputs": [],
   "source": []
  }
 ]
}