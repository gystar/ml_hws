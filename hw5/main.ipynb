{
 "metadata": {
  "language_info": {
   "codemirror_mode": {
    "name": "ipython",
    "version": 3
   },
   "file_extension": ".py",
   "mimetype": "text/x-python",
   "name": "python",
   "nbconvert_exporter": "python",
   "pygments_lexer": "ipython3",
   "version": "3.6.8-final"
  },
  "orig_nbformat": 2,
  "kernelspec": {
   "name": "python3",
   "display_name": "Python 3"
  }
 },
 "nbformat": 4,
 "nbformat_minor": 2,
 "cells": [
  {
   "source": [
    "import os,sys,math\n",
    "import torch\n",
    "import numpy as np\n",
    "from PIL import Image\n",
    "from torchvision import transforms\n",
    "import importlib\n",
    "import matplotlib.pyplot as plt\n",
    "import random\n",
    "sys.path.append('../hw3') ##直接使用hw3中的model\n",
    "import image_classification\n",
    "import image_set\n",
    "importlib.reload(image_set)\n",
    "importlib.reload(image_classification)\n",
    "random.seed(10)\n",
    "\n",
    "\n",
    "current_dir = os.path.abspath('.')\n",
    "MODEL_PATH =  os.path.join(current_dir, \"../hw3/<class 'image_classification.GYHF_LetNet5'>.pkl\")\n",
    "TRAIN_DIR = os.path.join(current_dir, \"../hw3/data/training\")\n",
    "OUTPUT_DIR = os.path.join(current_dir, \"output\")\n",
    "if not os.path.exists(OUTPUT_DIR):\n",
    "    os.mkdir(OUTPUT_DIR)\n"
   ],
   "cell_type": "code",
   "metadata": {},
   "execution_count": null,
   "outputs": []
  },
  {
   "cell_type": "code",
   "execution_count": null,
   "metadata": {},
   "outputs": [],
   "source": []
  },
  {
   "cell_type": "code",
   "execution_count": null,
   "metadata": {},
   "outputs": [],
   "source": [
    "#指定模型类别\n",
    "model_class = image_classification.GYHF_LetNet5\n",
    "data = image_set.LearningSet( TRAIN_DIR, model_class.input_size, False)\n",
    "#使用已经训练好的hw3中的model\n",
    "model = torch.load(MODEL_PATH)"
   ]
  },
  {
   "cell_type": "code",
   "execution_count": null,
   "metadata": {},
   "outputs": [],
   "source": [
    "#画出每个类别概率最高的图片的salient map\n",
    "import saliency_map\n",
    "\n",
    "##先选出概率最高的图片的索引数字\n",
    "data_loader = torch.utils.data.DataLoader(\n",
    "    data, 1024, shuffle=False,\n",
    "    num_workers=2)\n",
    "class_num = data.GetClassNum()\n",
    "#先计算出所有图片的输出\n",
    "output = np.zeros((1, class_num)) #空矩阵，便于使用concatenate\n",
    "model.eval()  # 会关闭dropout、batchnorm等\n",
    "with torch.no_grad():  # 不构建计算图\n",
    "    for _, info in enumerate(data_loader):\n",
    "        images, labels = info             \n",
    "        y_pred = model(images).numpy()                \n",
    "        output = np.concatenate((output, y_pred), axis=0)            \n",
    "output = torch.tensor(output[1:]).float() #去掉第一行的空行\n",
    "idx = []\n",
    "for i in range(class_num):\n",
    "    idx.append(output[:,i].topk(1)[1].item()) #得到所需图片的索引，即为每一类别中概率最大的图片索引号\n",
    "images,labels = data.GetBatch(idx) #取出这些图片\n",
    "\n",
    "##画出这些图片的saliency map\n",
    "saliency_map.draw(model, images, labels)\n"
   ]
  },
  {
   "cell_type": "code",
   "execution_count": null,
   "metadata": {},
   "outputs": [],
   "source": [
    "from easydl import clear_output\n",
    "clear_output()"
   ]
  }
 ]
}