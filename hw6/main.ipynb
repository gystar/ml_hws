{
 "metadata": {
  "language_info": {
   "codemirror_mode": {
    "name": "ipython",
    "version": 3
   },
   "file_extension": ".py",
   "mimetype": "text/x-python",
   "name": "python",
   "nbconvert_exporter": "python",
   "pygments_lexer": "ipython3",
   "version": "3.6.8-final"
  },
  "orig_nbformat": 2,
  "kernelspec": {
   "name": "python3",
   "display_name": "Python 3"
  }
 },
 "nbformat": 4,
 "nbformat_minor": 2,
 "cells": [
  {
   "cell_type": "code",
   "execution_count": null,
   "metadata": {},
   "outputs": [],
   "source": [
    "#load data\n",
    "import numpy as np\n",
    "import os\n",
    "\n",
    "DATA_DIR = \"./data\""
   ]
  },
  {
   "cell_type": "code",
   "execution_count": 1,
   "metadata": {},
   "outputs": [
    {
     "output_type": "stream",
     "name": "stderr",
     "text": [
      "Downloading: \"https://download.pytorch.org/models/resnet18-5c106cde.pth\" to /home/gy/.cache/torch/hub/checkpoints/resnet18-5c106cde.pth\n",
      "100.0%\n",
      "Downloading: \"https://download.pytorch.org/models/alexnet-owt-4df8aa71.pth\" to /home/gy/.cache/torch/hub/checkpoints/alexnet-owt-4df8aa71.pth\n",
      "100.0%\n",
      "Downloading: \"https://download.pytorch.org/models/squeezenet1_0-a815701f.pth\" to /home/gy/.cache/torch/hub/checkpoints/squeezenet1_0-a815701f.pth\n",
      "100.0%\n",
      "Downloading: \"https://download.pytorch.org/models/vgg16-397923af.pth\" to /home/gy/.cache/torch/hub/checkpoints/vgg16-397923af.pth\n",
      "100.0%\n",
      "Downloading: \"https://download.pytorch.org/models/densenet161-8d451a50.pth\" to /home/gy/.cache/torch/hub/checkpoints/densenet161-8d451a50.pth\n",
      "100.0%\n",
      "Downloading: \"https://download.pytorch.org/models/inception_v3_google-1a9a5a14.pth\" to /home/gy/.cache/torch/hub/checkpoints/inception_v3_google-1a9a5a14.pth\n",
      "100.0%\n",
      "Downloading: \"https://download.pytorch.org/models/googlenet-1378be20.pth\" to /home/gy/.cache/torch/hub/checkpoints/googlenet-1378be20.pth\n",
      "100.0%\n",
      "Downloading: \"https://download.pytorch.org/models/shufflenetv2_x1-5666bf0f80.pth\" to /home/gy/.cache/torch/hub/checkpoints/shufflenetv2_x1-5666bf0f80.pth\n",
      "100.0%\n",
      "Downloading: \"https://download.pytorch.org/models/mobilenet_v2-b0353104.pth\" to /home/gy/.cache/torch/hub/checkpoints/mobilenet_v2-b0353104.pth\n",
      "100.0%\n",
      "Downloading: \"https://download.pytorch.org/models/resnext50_32x4d-7cdf4587.pth\" to /home/gy/.cache/torch/hub/checkpoints/resnext50_32x4d-7cdf4587.pth\n",
      "100.0%\n",
      "Downloading: \"https://download.pytorch.org/models/wide_resnet50_2-95faca4d.pth\" to /home/gy/.cache/torch/hub/checkpoints/wide_resnet50_2-95faca4d.pth\n",
      "100.0%\n",
      "Downloading: \"https://download.pytorch.org/models/mnasnet1.0_top1_73.512-f206786ef8.pth\" to /home/gy/.cache/torch/hub/checkpoints/mnasnet1.0_top1_73.512-f206786ef8.pth\n",
      "100.0%\n"
     ]
    }
   ],
   "source": [
    "#load all the models\n",
    "import torchvision.models as models\n",
    "resnet18 = models.resnet18(pretrained=True)\n",
    "alexnet = models.alexnet(pretrained=True)\n",
    "squeezenet = models.squeezenet1_0(pretrained=True)\n",
    "vgg16 = models.vgg16(pretrained=True)\n",
    "densenet = models.densenet161(pretrained=True)\n",
    "inception = models.inception_v3(pretrained=True)\n",
    "googlenet = models.googlenet(pretrained=True)\n",
    "shufflenet = models.shufflenet_v2_x1_0(pretrained=True)\n",
    "mobilenet = models.mobilenet_v2(pretrained=True)\n",
    "resnext50_32x4d = models.resnext50_32x4d(pretrained=True)\n",
    "wide_resnet50_2 = models.wide_resnet50_2(pretrained=True)\n",
    "mnasnet = models.mnasnet1_0(pretrained=True)"
   ]
  }
 ]
}