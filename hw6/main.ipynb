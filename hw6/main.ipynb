{
 "metadata": {
  "language_info": {
   "codemirror_mode": {
    "name": "ipython",
    "version": 3
   },
   "file_extension": ".py",
   "mimetype": "text/x-python",
   "name": "python",
   "nbconvert_exporter": "python",
   "pygments_lexer": "ipython3",
   "version": "3.6.8-final"
  },
  "orig_nbformat": 2,
  "kernelspec": {
   "name": "python3",
   "display_name": "Python 3"
  }
 },
 "nbformat": 4,
 "nbformat_minor": 2,
 "cells": [
  {
   "cell_type": "code",
   "execution_count": 33,
   "metadata": {},
   "outputs": [],
   "source": [
    "import numpy as np\n",
    "import os\n",
    "import torch\n",
    "import importlib\n",
    "import data_set\n",
    "\n",
    "importlib.reload(data_set)\n",
    "#加载图片相关数据\n",
    "data = data_set.ImageSet()"
   ]
  },
  {
   "cell_type": "code",
   "execution_count": 22,
   "metadata": {},
   "outputs": [],
   "source": [
    "#加载一些预先训练好的model\n",
    "import torchvision.models as models\n",
    "resnet18 = models.resnet18(pretrained=True)\n",
    "alexnet = models.alexnet(pretrained=True)\n",
    "squeezenet = models.squeezenet1_0(pretrained=True)\n",
    "vgg16 = models.vgg16(pretrained=True)\n",
    "densenet = models.densenet161(pretrained=True)\n",
    "inception = models.inception_v3(pretrained=True)\n",
    "googlenet = models.googlenet(pretrained=True)\n",
    "shufflenet = models.shufflenet_v2_x1_0(pretrained=True)\n",
    "mobilenet = models.mobilenet_v2(pretrained=True)\n",
    "resnext50_32x4d = models.resnext50_32x4d(pretrained=True)\n",
    "wide_resnet50_2 = models.wide_resnet50_2(pretrained=True)\n",
    "mnasnet = models.mnasnet1_0(pretrained=True)\n"
   ]
  },
  {
   "cell_type": "code",
   "execution_count": 34,
   "metadata": {},
   "outputs": [
    {
     "output_type": "stream",
     "name": "stdout",
     "text": [
      "lables:\n['dung beetle' 'vase' 'bull mastiff' 'strawberry']\npredictions:\n[['ground beetle, carabid beetle']\n ['pot, flowerpot']\n ['bull mastiff']\n ['strawberry']]\n"
     ]
    }
   ],
   "source": [
    "images,lables = data.GetBatch([0,1,2,6])\n",
    "#直接使用CPU来进行预测运算\n",
    "with torch.no_grad():\n",
    "    ret = googlenet(images)\n",
    "print(\"lables:\")\n",
    "print(data.category_names[lables])\n",
    "print(\"predictions:\")\n",
    "print(data.category_names[ret.topk(1)[1]])\n",
    "\n",
    "    "
   ]
  },
  {
   "cell_type": "code",
   "execution_count": 35,
   "metadata": {},
   "outputs": [
    {
     "output_type": "stream",
     "name": "stdout",
     "text": [
      "['000.png' '001.png' '002.png' '006.png']\n"
     ]
    }
   ],
   "source": [
    "print(data.images[[0,1,2,6]])"
   ]
  },
  {
   "cell_type": "code",
   "execution_count": 43,
   "metadata": {},
   "outputs": [
    {
     "output_type": "stream",
     "name": "stdout",
     "text": [
      "torch.Size([1, 3, 224, 224])\n305\ntorch.Size([1])\n"
     ]
    }
   ],
   "source": [
    "a,b = data.__getitem__(0)\n",
    "print(a.unsqueeze(0).shape)\n",
    "print(b)\n",
    "print(torch.tensor([b]).shape)"
   ]
  },
  {
   "cell_type": "code",
   "execution_count": null,
   "metadata": {},
   "outputs": [],
   "source": []
  }
 ]
}