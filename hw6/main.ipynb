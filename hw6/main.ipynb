{
 "metadata": {
  "language_info": {
   "codemirror_mode": {
    "name": "ipython",
    "version": 3
   },
   "file_extension": ".py",
   "mimetype": "text/x-python",
   "name": "python",
   "nbconvert_exporter": "python",
   "pygments_lexer": "ipython3",
   "version": "3.6.8-final"
  },
  "orig_nbformat": 2,
  "kernelspec": {
   "name": "python3",
   "display_name": "Python 3"
  }
 },
 "nbformat": 4,
 "nbformat_minor": 2,
 "cells": [
  {
   "cell_type": "code",
   "execution_count": null,
   "metadata": {},
   "outputs": [],
   "source": [
    "import numpy as np\n",
    "import os\n",
    "import torch\n",
    "import importlib\n",
    "import data_set\n",
    "import matplotlib.pyplot as plt\n",
    "\n",
    "importlib.reload(data_set)\n",
    "#加载图片相关数据\n",
    "data = data_set.ImageSet()\n",
    "cuda_ok = torch.cuda.is_available()\n",
    "use_cuda = True & cuda_ok\n",
    "device = torch.device(\"cuda\") if use_cuda else torch.device(\"cpu\")\n",
    "print(\"Use cuda.\" if use_cuda else \"Use cpu.\")"
   ]
  },
  {
   "cell_type": "code",
   "execution_count": null,
   "metadata": {},
   "outputs": [],
   "source": [
    "#加载一些预先训练好的model\n",
    "import torchvision.models as models\n",
    "resnet18 = models.resnet18(pretrained=True)\n",
    "alexnet = models.alexnet(pretrained=True)\n",
    "squeezenet = models.squeezenet1_0(pretrained=True)\n",
    "vgg16 = models.vgg16(pretrained=True)"
   ]
  },
  {
   "cell_type": "code",
   "execution_count": null,
   "metadata": {},
   "outputs": [],
   "source": [
    "import random\n",
    "#选择要attack的model\n",
    "model = vgg16\n",
    "model = model.to(device)\n",
    "#预测而不需要改变model参数的时候一定要用eval\n",
    "#否则dropout等可能导致每次预测的结果不同\n",
    "model.eval() \n",
    "#改变大小界限\n",
    "tolerance = 0.001\n",
    "random.seed(100)\n",
    "image, lable = data.__getitem__(6)\n",
    "image  = image.to(device) \n",
    "#此处发现vgg16两次预测的概率不同，而且相差较大，不知道为什么原因，\n",
    "# 所以在此测试一下两次预测结果是否相同\n",
    "#原因是没有使用model.eval() \n",
    "y = torch.nn.functional.softmax(model(image.unsqueeze(0))[0])\n",
    "print(y[lable])\n",
    "y = torch.nn.functional.softmax(model(image.unsqueeze(0))[0])\n",
    "print(y[lable])"
   ]
  },
  {
   "cell_type": "code",
   "execution_count": null,
   "metadata": {},
   "outputs": [],
   "source": [
    "#使用FGSM来生成所有的攻击图片\n",
    "import fgsm\n",
    "importlib.reload(fgsm)\n",
    "\n",
    "fgsm_attack_ret = []\n",
    "fgsm_success_count = 0\n",
    "for i in range(data.__len__()):    \n",
    "    image,label = data.__getitem__(i)\n",
    "    image = image.to(device)\n",
    "    r = fgsm.white_nontarget_attack(model, image, label, tolerance )\n",
    "    if r[2][0] != label:  \n",
    "        fgsm_success_count += 1\n",
    "    fgsm_attack_ret.append(r)\n",
    "    #手动释放缓存    \n",
    "    del image\n",
    "    torch.cuda.empty_cache()\n"
   ]
  },
  {
   "cell_type": "code",
   "execution_count": null,
   "metadata": {},
   "outputs": [],
   "source": [
    "#使用BIM来生成所有的攻击图片\n",
    "import bim\n",
    "importlib.reload(bim)\n",
    "\n",
    "bim_attack_ret = []\n",
    "bim_success_count = 0\n",
    "for i in range(data.__len__()):    \n",
    "    image,label = data.__getitem__(i)\n",
    "    image = image.to(device)\n",
    "    #每次的step为0.1 * tolerance,训练10轮\n",
    "    r = bim.white_nontarget_attack(model, image, label, tolerance,0.1,20)\n",
    "    if r[2][0] != label:\n",
    "        bim_success_count += 1\n",
    "    bim_attack_ret.append(r)\n",
    "    #手动释放缓存    \n",
    "    del image\n",
    "    torch.cuda.empty_cache()"
   ]
  },
  {
   "cell_type": "code",
   "execution_count": null,
   "metadata": {},
   "outputs": [],
   "source": [
    "print(\"image count: %d, fgsm success count: %d, bim success count: %d,\" % (data.__len__(), fgsm_success_count, bim_success_count))"
   ]
  },
  {
   "cell_type": "code",
   "execution_count": null,
   "metadata": {},
   "outputs": [],
   "source": [
    "#show a image result\n",
    "import utils\n",
    "def print_result(id, ret):\n",
    "    image, label = data.__getitem__(id)\n",
    "    print('label is %d \"%s\"' % (label, data.category_names[label]))\n",
    "    print(\n",
    "        'origin:\\nprediction is %d(%f) \"%s\", \\nlabel probability: %f'\n",
    "        % (ret[id][1][0], ret[id][1][1], data.category_names[ret[id][1][0]], ret[id][1][2])\n",
    "    )\n",
    "    plt.figure()\n",
    "    plt.imshow(utils.tensor2numpy(image))\n",
    "    plt.show()\n",
    "    print(\n",
    "        'attack result:\\nprediction is %d(%f) \"%s\", \\nlabel probability: %f'\n",
    "        % (ret[id][2][0], ret[id][2][1], data.category_names[ret[id][2][0]], ret[id][2][2])\n",
    "    )\n",
    "    plt.figure()\n",
    "    plt.imshow(ret[id][0])\n",
    "    plt.show()"
   ]
  },
  {
   "cell_type": "code",
   "execution_count": null,
   "metadata": {},
   "outputs": [],
   "source": [
    "id = 6\n",
    "print(\"FGSM attack result against image %d\" % (id))\n",
    "print_result(id, fgsm_attack_ret)"
   ]
  },
  {
   "cell_type": "code",
   "execution_count": null,
   "metadata": {},
   "outputs": [],
   "source": [
    "id = 6\n",
    "print(\"BIM attack result against image %d\" % (id))\n",
    "print_result(id, bim_attack_ret)"
   ]
  },
  {
   "cell_type": "code",
   "execution_count": null,
   "metadata": {},
   "outputs": [],
   "source": []
  }
 ]
}