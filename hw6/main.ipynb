{
 "metadata": {
  "language_info": {
   "codemirror_mode": {
    "name": "ipython",
    "version": 3
   },
   "file_extension": ".py",
   "mimetype": "text/x-python",
   "name": "python",
   "nbconvert_exporter": "python",
   "pygments_lexer": "ipython3",
   "version": "3.6.8-final"
  },
  "orig_nbformat": 2,
  "kernelspec": {
   "name": "python3",
   "display_name": "Python 3"
  }
 },
 "nbformat": 4,
 "nbformat_minor": 2,
 "cells": [
  {
   "cell_type": "code",
   "execution_count": null,
   "metadata": {},
   "outputs": [],
   "source": [
    "import numpy as np\n",
    "import os\n",
    "import torch\n",
    "import importlib\n",
    "import data_set\n",
    "\n",
    "importlib.reload(data_set)\n",
    "#加载图片相关数据\n",
    "data = data_set.ImageSet()\n",
    "cuda_ok = torch.cuda.is_available()\n",
    "print(\"Cuda is available\" if cuda_ok else \"There is no gpu available.\")\n",
    "use_cuda = False & cuda_ok"
   ]
  },
  {
   "cell_type": "code",
   "execution_count": null,
   "metadata": {},
   "outputs": [],
   "source": [
    "#加载一些预先训练好的model\n",
    "import torchvision.models as models\n",
    "resnet18 = models.resnet18(pretrained=True)\n",
    "alexnet = models.alexnet(pretrained=True)\n",
    "squeezenet = models.squeezenet1_0(pretrained=True)\n",
    "vgg16 = models.vgg16(pretrained=True)\n",
    "densenet = models.densenet161(pretrained=True)\n",
    "inception = models.inception_v3(pretrained=True)\n",
    "googlenet = models.googlenet(pretrained=True)\n",
    "shufflenet = models.shufflenet_v2_x1_0(pretrained=True)\n",
    "mobilenet = models.mobilenet_v2(pretrained=True)\n",
    "resnext50_32x4d = models.resnext50_32x4d(pretrained=True)\n",
    "wide_resnet50_2 = models.wide_resnet50_2(pretrained=True)\n",
    "mnasnet = models.mnasnet1_0(pretrained=True)\n"
   ]
  },
  {
   "cell_type": "code",
   "execution_count": null,
   "metadata": {},
   "outputs": [],
   "source": [
    "images,lables = data.GetBatch([0,1,2,6])\n",
    "#直接使用CPU来进行预测运算\n",
    "with torch.no_grad():\n",
    "    ret = googlenet(images)\n",
    "print(\"lables:\")\n",
    "print(data.category_names[lables])\n",
    "print(\"predictions:\")\n",
    "print(data.category_names[ret.topk(1)[1]])\n",
    "\n",
    "    "
   ]
  },
  {
   "cell_type": "code",
   "execution_count": null,
   "metadata": {},
   "outputs": [],
   "source": [
    "#使用fgsm来生成所有的攻击图片\n",
    "import fgsm\n",
    "importlib.reload(fgsm)\n",
    "attack_ret = []\n",
    "model = squeezenet\n",
    "model = model.cuda() if use_cuda else model.cpu()\n",
    "for i in range(data.__len__()):\n",
    "    image,label = data.__getitem__(i)\n",
    "    r = fgsm.attack(model, image, label, 0.01 )\n",
    "    attack_ret.append(r)\n"
   ]
  },
  {
   "cell_type": "code",
   "execution_count": null,
   "metadata": {},
   "outputs": [],
   "source": [
    "#show result\n",
    "id = 5\n",
    "image, label = data.__getitem__(id)\n",
    "print('label is %d \"%s\"' % (label, data.category_names[label]))\n",
    "print(\n",
    "    'origin:\\nprediction is %d(%f) \"%s\", \\nlabel probability: %f'\n",
    "    % (attack_ret[1][0], attack_ret[1][1], data.category_names[attack_ret[1][0]], attack_ret[1][2])\n",
    ")\n",
    "plt.figure()\n",
    "plt.imshow(tensor2numpy(image))\n",
    "plt.show()\n",
    "print(\n",
    "    'attack result:\\nprediction is %d(%f) \"%s\", \\nlabel probability: %f'\n",
    "    % (attack_ret[2][0], attack_ret[2][1], data.category_names[attack_ret[2][0]], attack_ret[2][2])\n",
    ")"
   ]
  },
  {
   "cell_type": "code",
   "execution_count": null,
   "metadata": {},
   "outputs": [],
   "source": []
  }
 ]
}