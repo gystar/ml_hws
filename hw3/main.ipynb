{
 "metadata": {
  "language_info": {
   "codemirror_mode": {
    "name": "ipython",
    "version": 3
   },
   "file_extension": ".py",
   "mimetype": "text/x-python",
   "name": "python",
   "nbconvert_exporter": "python",
   "pygments_lexer": "ipython3",
   "version": "3.6.8-final"
  },
  "orig_nbformat": 2,
  "kernelspec": {
   "name": "python3",
   "display_name": "Python 3",
   "language": "python"
  }
 },
 "nbformat": 4,
 "nbformat_minor": 2,
 "cells": [
  {
   "cell_type": "code",
   "execution_count": 1,
   "metadata": {},
   "outputs": [
    {
     "output_type": "stream",
     "name": "stdout",
     "text": [
      "Use Cuda.\n"
     ]
    }
   ],
   "source": [
    "import torch\n",
    "import numpy as np\n",
    "import pandas as pd\n",
    "import os\n",
    "import sys\n",
    "import multiprocessing\n",
    "import importlib\n",
    "import image_set  # 图片数据集实现类\n",
    "import model_manager\n",
    "import image_classification  # 分类模型实现类\n",
    "\n",
    "\n",
    "# 处理思路：数据处理（引用函数dataset）->模型实例化、损失函数、优化器->\n",
    "# dataloader构造->循环训练模型（寻找参数）\n",
    "\n",
    "# 如果自定义的模块代码改变，需要reload\n",
    "importlib.reload(image_set)\n",
    "importlib.reload(model_manager)\n",
    "importlib.reload(image_classification)\n",
    "\n",
    "TRAIN_DIR = \"./data/training\"\n",
    "VALIDATION_DIR = \"./data/validation\"\n",
    "TEST_DIR = \"./data/testing\"\n",
    "TEST_REULST_PATH = \"./data/result.csv\"\n",
    "\n",
    "# 用以对cpu和GPU进行兼容\n",
    "use_cuda = True & torch.cuda.is_available()\n",
    "device = torch.device(\"cuda\" if use_cuda else \"cpu\")\n",
    "print(\"Use Cuda.\" if use_cuda else \"Use cpu.\")\n"
   ]
  },
  {
   "cell_type": "code",
   "execution_count": 2,
   "metadata": {},
   "outputs": [],
   "source": [
    "def CalcRightCount(y, t):\n",
    "    # 计算预测正确的数量，y、t均为numpy一维数组\n",
    "    count = 0\n",
    "    for i in range(y.shape[0]):\n",
    "        if y[i] == t[i]:\n",
    "            count += 1\n",
    "    return count\n",
    "\n",
    "\n",
    "def validate(data_loader, m):\n",
    "    m.eval()  # 会关闭dropout、batchnorm等\n",
    "    right_count = 0\n",
    "    with torch.no_grad():  # 不构建计算图\n",
    "        for _, info in enumerate(data_loader):\n",
    "            images, labels = info\n",
    "            images, labels = images.to(device), labels.to(device)\n",
    "            y_pred = m(images).squeeze()\n",
    "            right_count += CalcRightCount(np.argmax(y_pred.cpu().numpy(), 1), labels.cpu().numpy())\n",
    "            del images, labels, y_pred\n",
    "            torch.cuda.empty_cache()\n",
    "    return right_count"
   ]
  },
  {
   "cell_type": "code",
   "execution_count": 3,
   "metadata": {},
   "outputs": [
    {
     "output_type": "stream",
     "name": "stdout",
     "text": [
      "model has been loaded from file.\n"
     ]
    }
   ],
   "source": [
    "# 指定模型类别并实例化模型\n",
    "\n",
    "model_class = image_classification.GYHF_AlexNet#选择模型类型\n",
    "\n",
    "# 训练数据集\n",
    "data_train = image_set.LearningSet(TRAIN_DIR, model_class.input_size)\n",
    "class_count = data_train.GetClassNum()  # 获取类别数量\n",
    "\n",
    "# 模型实例化\n",
    "SAVE_PATH = str(model_class) + \".pkl\"\n",
    "if os.path.exists(SAVE_PATH):\n",
    "    print(\"model has been loaded from file.\")\n",
    "    model = torch.load(SAVE_PATH)\n",
    "else:\n",
    "    print(\"create a new model.\")\n",
    "    model = model_class(class_count)\n",
    "\n",
    "model = model.to(device)"
   ]
  },
  {
   "cell_type": "code",
   "execution_count": 4,
   "metadata": {},
   "outputs": [],
   "source": [
    "# 验证集数据加载\n",
    "nbatch_predict = 128\n",
    "# 训练数据验证\n",
    "data_validation1 = image_set.LearningSet(TRAIN_DIR, model.input_size, False)\n",
    "data_loader_validation1 = torch.utils.data.DataLoader(\n",
    "    data_validation1,\n",
    "    nbatch_predict,\n",
    "    shuffle=False,\n",
    "    num_workers=multiprocessing.cpu_count(),\n",
    ")\n",
    "# 验证集数据验证\n",
    "data_validation2 = image_set.LearningSet(VALIDATION_DIR, model.input_size, False)\n",
    "data_loader_validation2 = torch.utils.data.DataLoader(\n",
    "    data_validation2,\n",
    "    nbatch_predict,\n",
    "    shuffle=False,\n",
    "    num_workers=multiprocessing.cpu_count(),\n",
    ")"
   ]
  },
  {
   "cell_type": "code",
   "execution_count": null,
   "metadata": {},
   "outputs": [],
   "source": [
    "# 训练模型\n",
    "print(\"waiting for training...\")\n",
    "for i in range(5):\n",
    "    print(\"iters \", i, \" ...\")\n",
    "    model = model_manager.train_model(\n",
    "        model,\n",
    "        data_train,\n",
    "        device=device,\n",
    "        epochs=5,\n",
    "        nbatch=128,  # 可根据显存和模型大小来调整batchsize的大小\n",
    "        lr=0.001,\n",
    "        weight_decay=0,\n",
    "        opt=0,\n",
    "    )\n",
    "    with torch.no_grad():\n",
    "        # 每5轮保存一次模型，同时验证一下正确率\n",
    "        # 模型保存\n",
    "        torch.save(model, SAVE_PATH)\n",
    "        # 用验证集和训练集验证:\n",
    "        print(\"waiting for validation...\")\n",
    "        train_accuracy = 100 * validate(data_loader_validation1, model) / data_validation1.GetLen()\n",
    "        print(\"train accuracy:\", train_accuracy, \"%\")\n",
    "        validation_accuracy = 100 * validate(data_loader_validation2, model) / data_validation2.GetLen()\n",
    "        print(\"validation accuracy:\", validation_accuracy, \"%\")"
   ]
  },
  {
   "cell_type": "code",
   "execution_count": null,
   "metadata": {},
   "outputs": [],
   "source": [
    "# 测试集结果输出\n",
    "model.eval()\n",
    "data_test = image_set.TestingSet(TEST_DIR, model.input_size)\n",
    "data_loader_test = torch.utils.data.DataLoader(data_test, nbatch_predict, shuffle=False, num_workers=multiprocessing.cpu_count())\n",
    "y_test = []\n",
    "print(\"waiting for testing...\")\n",
    "with torch.no_grad():\n",
    "    for i, images in enumerate(data_loader_test):\n",
    "        images = images.to(device)\n",
    "        y_pred = model(images).cpu().squeeze()\n",
    "        # 获得类别，即最大元素下标\n",
    "        y_test.extend(list(np.argmax(y_pred.numpy(), 1)))\n",
    "        del images, y_pred\n",
    "        torch.cuda.empty_cache()\n",
    "# 测试结果存入文件\n",
    "pd.DataFrame({\"Id\": [x for x in range(data_test.GetLen())], \"Category\": y_test}).to_csv(TEST_REULST_PATH, index=False)\n",
    "print(\"test result has been written into ./data/result.csv\")"
   ]
  }
 ]
}