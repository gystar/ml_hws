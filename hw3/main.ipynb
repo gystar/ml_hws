{
 "metadata": {
  "language_info": {
   "codemirror_mode": {
    "name": "ipython",
    "version": 3
   },
   "file_extension": ".py",
   "mimetype": "text/x-python",
   "name": "python",
   "nbconvert_exporter": "python",
   "pygments_lexer": "ipython3",
   "version": "3.6.8-final"
  },
  "orig_nbformat": 2,
  "kernelspec": {
   "name": "python3",
   "display_name": "Python 3",
   "language": "python"
  }
 },
 "nbformat": 4,
 "nbformat_minor": 2,
 "cells": [
  {
   "cell_type": "code",
   "execution_count": null,
   "metadata": {},
   "outputs": [],
   "source": [
    "import torch\n",
    "import numpy as np\n",
    "import pandas as pd\n",
    "import os\n",
    "import sys\n",
    "import multiprocessing\n",
    "import importlib\n",
    "# 处理思路：数据处理（引用函数dataset）->模型实例化、损失函数、优化器->\n",
    "# dataloader构造->循环训练模型（寻找参数）\n",
    "\n",
    "TRAIN_DIR = \"./data/training\"\n",
    "VALIDATION_DIR = \"./data/validation\"\n",
    "TEST_DIR = \"./data/testing\"\n",
    "TEST_REULST_PATH = \"./data/result.csv\"\n",
    "\n",
    "# 用以对cpu和GPU进行兼容\n",
    "use_cuda = True & torch.cuda.is_available()\n",
    "device = torch.device(\"cuda\" if use_cuda else \"cpu\")\n",
    "print(\"Use Cuda.\" if use_cuda else \"Use cpu.\")\n"
   ]
  },
  {
   "cell_type": "code",
   "execution_count": null,
   "metadata": {},
   "outputs": [],
   "source": [
    "# 指定模型类别并实例化模型\n",
    "import image_classification  # 分类模型实现类\n",
    "import image_set  # 图片数据集实现类\n",
    "importlib.reload(image_classification)\n",
    "importlib.reload(image_set)\n",
    "\n",
    "#选择模型类型，可以选择在image_classification定义好的模型\n",
    "model_class = image_classification.GYHF_AlexNet \n",
    "\n",
    "# 训练数据集\n",
    "data_train = image_set.LearningSet(TRAIN_DIR, model_class.input_size)\n",
    "class_count = data_train.GetClassNum()  # 获取类别数量\n",
    "\n",
    "# 模型实例化\n",
    "SAVE_PATH = str(model_class) + \".pkl\"\n",
    "if os.path.exists(SAVE_PATH):\n",
    "    print(\"model has been loaded from file.\")\n",
    "    model = torch.load(SAVE_PATH)\n",
    "else:\n",
    "    print(\"create a new model.\")\n",
    "    model = model_class(class_count)"
   ]
  },
  {
   "cell_type": "code",
   "execution_count": null,
   "metadata": {},
   "outputs": [],
   "source": [
    "import model_manager\n",
    "# 如果自定义的模块代码改变，需要reload\n",
    "importlib.reload(model_manager)\n",
    "\n",
    "def calc_right_percent(dir):    \n",
    "    #构造一个train的dataset来获取标签\n",
    "    data_train = image_set.LearningSet(dir, model.input_size)\n",
    "    labels = data_train.GetLabels()\n",
    "    num = len(labels)\n",
    "\n",
    "    #对目录中的所有图片进行预测\n",
    "    y_pred = model_manager.predict(model,device, dir, model.input_size)\n",
    "    \n",
    "    #计算预测正确的数量\n",
    "    right_count = 0\n",
    "    for i in range(num):\n",
    "        if y_pred[i] == labels[i]:\n",
    "            right_count += 1\n",
    "    return right_count/num\n",
    "\n",
    "def print_accuracy():   \n",
    "    # 用验证集和训练集验证:\n",
    "    print(\"waiting for validation...\")\n",
    "    print(\"train accuracy: %f%%\" % (100 * calc_right_percent(TRAIN_DIR))) \n",
    "    print(\"validation accuracy: %f%%\" % (100 * calc_right_percent(VALIDATION_DIR)))\n",
    "\n",
    "print_accuracy()"
   ]
  },
  {
   "cell_type": "code",
   "execution_count": null,
   "metadata": {},
   "outputs": [],
   "source": [
    "# 训练模型\n",
    "print(\"waiting for training...\")\n",
    "iters = 20\n",
    "for i in range(iters):\n",
    "    print(\"[iters %d/%d]:\" %(i, iters))\n",
    "    model = model_manager.train_model(\n",
    "        model,\n",
    "        data_train,\n",
    "        device=device,\n",
    "        lr=0.001,\n",
    "        epochs=5,\n",
    "        nbatch=128,  # 可根据显存和模型大小来调整batchsize的大小\n",
    "    )\n",
    "    # 每5轮保存一次模型，同时验证一下正确率\n",
    "    # 模型保存\n",
    "    torch.save(model, SAVE_PATH)\n",
    "    print_accuracy()\n",
    " "
   ]
  },
  {
   "cell_type": "code",
   "execution_count": null,
   "metadata": {},
   "outputs": [],
   "source": [
    "# 测试集结果输出\n",
    "y_test = model_manager.predict(model, device, TEST_DIR,  model.input_size)\n",
    "pd.DataFrame({\"Id\": [x for x in range(len(y_test))], \"Category\": y_test}).to_csv(TEST_REULST_PATH, index=False)\n",
    "print(\"test result has been written into ./data/result.csv\")"
   ]
  },
  {
   "cell_type": "code",
   "execution_count": null,
   "metadata": {},
   "outputs": [],
   "source": []
  }
 ]
}